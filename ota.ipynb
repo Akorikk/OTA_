{
 "cells": [
  {
   "cell_type": "code",
   "execution_count": null,
   "id": "8f415228",
   "metadata": {},
   "outputs": [],
   "source": []
  }
 ],
 "metadata": {
  "kernelspec": {
   "display_name": "ota",
   "language": "python",
   "name": "python3"
  },
  "language_info": {
   "name": "python",
   "version": "3.10.19"
  }
 },
 "nbformat": 4,
 "nbformat_minor": 5
}
